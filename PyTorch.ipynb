{
  "nbformat": 4,
  "nbformat_minor": 0,
  "metadata": {
    "colab": {
      "name": "PyTorch.ipynb",
      "provenance": [],
      "collapsed_sections": []
    },
    "kernelspec": {
      "name": "python3",
      "display_name": "Python 3"
    }
  },
  "cells": [
    {
      "cell_type": "code",
      "metadata": {
        "id": "mFX7NWzJ7RnD",
        "colab_type": "code",
        "colab": {}
      },
      "source": [
        "import torch\n",
        "import torch.nn as nn\n",
        "import torch.nn.functional as F\n",
        "import pandas as pd\n",
        "import matplotlib.pyplot as plt\n",
        "from sklearn.model_selection import train_test_split"
      ],
      "execution_count": 0,
      "outputs": []
    },
    {
      "cell_type": "code",
      "metadata": {
        "id": "BZECJuiu8ifc",
        "colab_type": "code",
        "colab": {
          "base_uri": "https://localhost:8080/",
          "height": 206
        },
        "outputId": "daddaf6a-6ee6-4e0a-9edb-dc629e7300bc"
      },
      "source": [
        "iris = pd.read_csv('https://raw.githubusercontent.com/pandas-dev/pandas/master/pandas/tests/data/iris.csv')\n",
        "iris.head()"
      ],
      "execution_count": 28,
      "outputs": [
        {
          "output_type": "execute_result",
          "data": {
            "text/html": [
              "<div>\n",
              "<style scoped>\n",
              "    .dataframe tbody tr th:only-of-type {\n",
              "        vertical-align: middle;\n",
              "    }\n",
              "\n",
              "    .dataframe tbody tr th {\n",
              "        vertical-align: top;\n",
              "    }\n",
              "\n",
              "    .dataframe thead th {\n",
              "        text-align: right;\n",
              "    }\n",
              "</style>\n",
              "<table border=\"1\" class=\"dataframe\">\n",
              "  <thead>\n",
              "    <tr style=\"text-align: right;\">\n",
              "      <th></th>\n",
              "      <th>SepalLength</th>\n",
              "      <th>SepalWidth</th>\n",
              "      <th>PetalLength</th>\n",
              "      <th>PetalWidth</th>\n",
              "      <th>Name</th>\n",
              "    </tr>\n",
              "  </thead>\n",
              "  <tbody>\n",
              "    <tr>\n",
              "      <th>0</th>\n",
              "      <td>5.1</td>\n",
              "      <td>3.5</td>\n",
              "      <td>1.4</td>\n",
              "      <td>0.2</td>\n",
              "      <td>Iris-setosa</td>\n",
              "    </tr>\n",
              "    <tr>\n",
              "      <th>1</th>\n",
              "      <td>4.9</td>\n",
              "      <td>3.0</td>\n",
              "      <td>1.4</td>\n",
              "      <td>0.2</td>\n",
              "      <td>Iris-setosa</td>\n",
              "    </tr>\n",
              "    <tr>\n",
              "      <th>2</th>\n",
              "      <td>4.7</td>\n",
              "      <td>3.2</td>\n",
              "      <td>1.3</td>\n",
              "      <td>0.2</td>\n",
              "      <td>Iris-setosa</td>\n",
              "    </tr>\n",
              "    <tr>\n",
              "      <th>3</th>\n",
              "      <td>4.6</td>\n",
              "      <td>3.1</td>\n",
              "      <td>1.5</td>\n",
              "      <td>0.2</td>\n",
              "      <td>Iris-setosa</td>\n",
              "    </tr>\n",
              "    <tr>\n",
              "      <th>4</th>\n",
              "      <td>5.0</td>\n",
              "      <td>3.6</td>\n",
              "      <td>1.4</td>\n",
              "      <td>0.2</td>\n",
              "      <td>Iris-setosa</td>\n",
              "    </tr>\n",
              "  </tbody>\n",
              "</table>\n",
              "</div>"
            ],
            "text/plain": [
              "   SepalLength  SepalWidth  PetalLength  PetalWidth         Name\n",
              "0          5.1         3.5          1.4         0.2  Iris-setosa\n",
              "1          4.9         3.0          1.4         0.2  Iris-setosa\n",
              "2          4.7         3.2          1.3         0.2  Iris-setosa\n",
              "3          4.6         3.1          1.5         0.2  Iris-setosa\n",
              "4          5.0         3.6          1.4         0.2  Iris-setosa"
            ]
          },
          "metadata": {
            "tags": []
          },
          "execution_count": 28
        }
      ]
    },
    {
      "cell_type": "code",
      "metadata": {
        "id": "LQU0bcqH8lxw",
        "colab_type": "code",
        "colab": {}
      },
      "source": [
        "mappings = {\n",
        "   'Iris-setosa': 0,\n",
        "   'Iris-versicolor': 1,\n",
        "   'Iris-virginica': 2\n",
        "}\n",
        "\n",
        "iris['Name'] = iris['Name'].apply(lambda x: mappings[x])"
      ],
      "execution_count": 0,
      "outputs": []
    },
    {
      "cell_type": "code",
      "metadata": {
        "id": "HvdFqcPI899j",
        "colab_type": "code",
        "colab": {
          "base_uri": "https://localhost:8080/",
          "height": 206
        },
        "outputId": "e40cd41b-f39c-4393-f0e5-ff4d838ca612"
      },
      "source": [
        "iris.tail()"
      ],
      "execution_count": 32,
      "outputs": [
        {
          "output_type": "execute_result",
          "data": {
            "text/html": [
              "<div>\n",
              "<style scoped>\n",
              "    .dataframe tbody tr th:only-of-type {\n",
              "        vertical-align: middle;\n",
              "    }\n",
              "\n",
              "    .dataframe tbody tr th {\n",
              "        vertical-align: top;\n",
              "    }\n",
              "\n",
              "    .dataframe thead th {\n",
              "        text-align: right;\n",
              "    }\n",
              "</style>\n",
              "<table border=\"1\" class=\"dataframe\">\n",
              "  <thead>\n",
              "    <tr style=\"text-align: right;\">\n",
              "      <th></th>\n",
              "      <th>SepalLength</th>\n",
              "      <th>SepalWidth</th>\n",
              "      <th>PetalLength</th>\n",
              "      <th>PetalWidth</th>\n",
              "      <th>Name</th>\n",
              "    </tr>\n",
              "  </thead>\n",
              "  <tbody>\n",
              "    <tr>\n",
              "      <th>145</th>\n",
              "      <td>6.7</td>\n",
              "      <td>3.0</td>\n",
              "      <td>5.2</td>\n",
              "      <td>2.3</td>\n",
              "      <td>2</td>\n",
              "    </tr>\n",
              "    <tr>\n",
              "      <th>146</th>\n",
              "      <td>6.3</td>\n",
              "      <td>2.5</td>\n",
              "      <td>5.0</td>\n",
              "      <td>1.9</td>\n",
              "      <td>2</td>\n",
              "    </tr>\n",
              "    <tr>\n",
              "      <th>147</th>\n",
              "      <td>6.5</td>\n",
              "      <td>3.0</td>\n",
              "      <td>5.2</td>\n",
              "      <td>2.0</td>\n",
              "      <td>2</td>\n",
              "    </tr>\n",
              "    <tr>\n",
              "      <th>148</th>\n",
              "      <td>6.2</td>\n",
              "      <td>3.4</td>\n",
              "      <td>5.4</td>\n",
              "      <td>2.3</td>\n",
              "      <td>2</td>\n",
              "    </tr>\n",
              "    <tr>\n",
              "      <th>149</th>\n",
              "      <td>5.9</td>\n",
              "      <td>3.0</td>\n",
              "      <td>5.1</td>\n",
              "      <td>1.8</td>\n",
              "      <td>2</td>\n",
              "    </tr>\n",
              "  </tbody>\n",
              "</table>\n",
              "</div>"
            ],
            "text/plain": [
              "     SepalLength  SepalWidth  PetalLength  PetalWidth  Name\n",
              "145          6.7         3.0          5.2         2.3     2\n",
              "146          6.3         2.5          5.0         1.9     2\n",
              "147          6.5         3.0          5.2         2.0     2\n",
              "148          6.2         3.4          5.4         2.3     2\n",
              "149          5.9         3.0          5.1         1.8     2"
            ]
          },
          "metadata": {
            "tags": []
          },
          "execution_count": 32
        }
      ]
    },
    {
      "cell_type": "code",
      "metadata": {
        "id": "GlDX-9jn9DB8",
        "colab_type": "code",
        "colab": {}
      },
      "source": [
        "# X = iris.drop(['Name'], axis=1)\n",
        "# y = iris['Name']\n",
        "\n",
        "# x_train, x_test, y_train, y_test = train_test_split(X, y, test_size=0.2, random_state=42)"
      ],
      "execution_count": 0,
      "outputs": []
    },
    {
      "cell_type": "code",
      "metadata": {
        "id": "dvK65PUC9USu",
        "colab_type": "code",
        "colab": {}
      },
      "source": [
        "X = iris.drop('Name', axis=1).values\n",
        "y = iris['Name'].values\n",
        "X_train, X_test, y_train, y_test = train_test_split(X, y, test_size=0.2, random_state=42)\n",
        "X_train = torch.FloatTensor(X_train)\n",
        "X_test = torch.FloatTensor(X_test)\n",
        "y_train = torch.LongTensor(y_train)\n",
        "y_test = torch.LongTensor(y_test)"
      ],
      "execution_count": 0,
      "outputs": []
    },
    {
      "cell_type": "code",
      "metadata": {
        "id": "GEXUCsh_9w69",
        "colab_type": "code",
        "colab": {
          "base_uri": "https://localhost:8080/",
          "height": 104
        },
        "outputId": "083f87db-60b1-416e-a74c-e18a1d640de3"
      },
      "source": [
        "class ANN(nn.Module):\n",
        "    def __init__(self):\n",
        "        super().__init__()\n",
        "        self.fc1 = nn.Linear(4, 16)\n",
        "        self.fc2 = nn.Linear(16, 12)\n",
        "        self.fc3 = nn.Linear(12, 3)\n",
        "    def forward(self, x):\n",
        "        x = F.relu(self.fc1(x))\n",
        "        x = F.relu(self.fc2(x))\n",
        "        x = self.fc3(x)\n",
        "\n",
        "        return x\n",
        "\n",
        "model = ANN()\n",
        "model"
      ],
      "execution_count": 42,
      "outputs": [
        {
          "output_type": "execute_result",
          "data": {
            "text/plain": [
              "ANN(\n",
              "  (fc1): Linear(in_features=4, out_features=16, bias=True)\n",
              "  (fc2): Linear(in_features=16, out_features=12, bias=True)\n",
              "  (fc3): Linear(in_features=12, out_features=3, bias=True)\n",
              ")"
            ]
          },
          "metadata": {
            "tags": []
          },
          "execution_count": 42
        }
      ]
    },
    {
      "cell_type": "code",
      "metadata": {
        "id": "9B97xg_i-vG6",
        "colab_type": "code",
        "colab": {}
      },
      "source": [
        "criterion = nn.CrossEntropyLoss()\n",
        "\n",
        "optimizer = torch.optim.Adam(model.parameters(), lr=0.01)"
      ],
      "execution_count": 0,
      "outputs": []
    },
    {
      "cell_type": "code",
      "metadata": {
        "id": "Mgvl0PnO_Dqb",
        "colab_type": "code",
        "colab": {
          "base_uri": "https://localhost:8080/",
          "height": 1000
        },
        "outputId": "cc5fcda5-dcf5-41ee-9e5c-c6627e21034b"
      },
      "source": [
        "%%time\n",
        "epochs=100\n",
        "loss_arr = []\n",
        "for i in range(epochs):\n",
        "    y_pred = model.forward(X_train)\n",
        "    loss = criterion(y_pred, y_train)\n",
        "    loss_arr.append(loss)\n",
        "    print('Epoch: ', i, 'Loss: ', loss.item())\n",
        "\n",
        "    optimizer.zero_grad()\n",
        "    loss.backward()\n",
        "    optimizer.step()"
      ],
      "execution_count": 46,
      "outputs": [
        {
          "output_type": "stream",
          "text": [
            "Epoch:  0 Loss:  0.05714736133813858\n",
            "Epoch:  1 Loss:  0.05703769251704216\n",
            "Epoch:  2 Loss:  0.056931279599666595\n",
            "Epoch:  3 Loss:  0.05682677775621414\n",
            "Epoch:  4 Loss:  0.05672430619597435\n",
            "Epoch:  5 Loss:  0.05662452057003975\n",
            "Epoch:  6 Loss:  0.05652669444680214\n",
            "Epoch:  7 Loss:  0.05643019825220108\n",
            "Epoch:  8 Loss:  0.056335702538490295\n",
            "Epoch:  9 Loss:  0.05624324828386307\n",
            "Epoch:  10 Loss:  0.056152164936065674\n",
            "Epoch:  11 Loss:  0.05606246367096901\n",
            "Epoch:  12 Loss:  0.055974315851926804\n",
            "Epoch:  13 Loss:  0.055887650698423386\n",
            "Epoch:  14 Loss:  0.05580207332968712\n",
            "Epoch:  15 Loss:  0.055717721581459045\n",
            "Epoch:  16 Loss:  0.055634696036577225\n",
            "Epoch:  17 Loss:  0.055552925914525986\n",
            "Epoch:  18 Loss:  0.05547214671969414\n",
            "Epoch:  19 Loss:  0.05539228767156601\n",
            "Epoch:  20 Loss:  0.05531353875994682\n",
            "Epoch:  21 Loss:  0.055235765874385834\n",
            "Epoch:  22 Loss:  0.05515901371836662\n",
            "Epoch:  23 Loss:  0.055083081126213074\n",
            "Epoch:  24 Loss:  0.055007949471473694\n",
            "Epoch:  25 Loss:  0.05493370443582535\n",
            "Epoch:  26 Loss:  0.05486033111810684\n",
            "Epoch:  27 Loss:  0.05478771775960922\n",
            "Epoch:  28 Loss:  0.05471581220626831\n",
            "Epoch:  29 Loss:  0.054644662886857986\n",
            "Epoch:  30 Loss:  0.05457417666912079\n",
            "Epoch:  31 Loss:  0.05450439453125\n",
            "Epoch:  32 Loss:  0.0544353611767292\n",
            "Epoch:  33 Loss:  0.05436692386865616\n",
            "Epoch:  34 Loss:  0.05429915338754654\n",
            "Epoch:  35 Loss:  0.054231975227594376\n",
            "Epoch:  36 Loss:  0.05416540801525116\n",
            "Epoch:  37 Loss:  0.0540994256734848\n",
            "Epoch:  38 Loss:  0.0540340282022953\n",
            "Epoch:  39 Loss:  0.05396921932697296\n",
            "Epoch:  40 Loss:  0.053904939442873\n",
            "Epoch:  41 Loss:  0.05384118854999542\n",
            "Epoch:  42 Loss:  0.053777992725372314\n",
            "Epoch:  43 Loss:  0.05371534079313278\n",
            "Epoch:  44 Loss:  0.05365316569805145\n",
            "Epoch:  45 Loss:  0.05359150469303131\n",
            "Epoch:  46 Loss:  0.053530316799879074\n",
            "Epoch:  47 Loss:  0.05346966162323952\n",
            "Epoch:  48 Loss:  0.05340949073433876\n",
            "Epoch:  49 Loss:  0.05334978178143501\n",
            "Epoch:  50 Loss:  0.05329062417149544\n",
            "Epoch:  51 Loss:  0.053231947124004364\n",
            "Epoch:  52 Loss:  0.053173813968896866\n",
            "Epoch:  53 Loss:  0.05311642214655876\n",
            "Epoch:  54 Loss:  0.053059909492731094\n",
            "Epoch:  55 Loss:  0.05300494283437729\n",
            "Epoch:  56 Loss:  0.05295315012335777\n",
            "Epoch:  57 Loss:  0.052908193320035934\n",
            "Epoch:  58 Loss:  0.052880339324474335\n",
            "Epoch:  59 Loss:  0.052891649305820465\n",
            "Epoch:  60 Loss:  0.05300670489668846\n",
            "Epoch:  61 Loss:  0.053310561925172806\n",
            "Epoch:  62 Loss:  0.054005350917577744\n",
            "Epoch:  63 Loss:  0.054472219198942184\n",
            "Epoch:  64 Loss:  0.05432816594839096\n",
            "Epoch:  65 Loss:  0.052873533219099045\n",
            "Epoch:  66 Loss:  0.05253774672746658\n",
            "Epoch:  67 Loss:  0.05339522659778595\n",
            "Epoch:  68 Loss:  0.053324803709983826\n",
            "Epoch:  69 Loss:  0.05249316617846489\n",
            "Epoch:  70 Loss:  0.05239848047494888\n",
            "Epoch:  71 Loss:  0.052921194583177567\n",
            "Epoch:  72 Loss:  0.052741218358278275\n",
            "Epoch:  73 Loss:  0.052163925021886826\n",
            "Epoch:  74 Loss:  0.05240916088223457\n",
            "Epoch:  75 Loss:  0.052658770233392715\n",
            "Epoch:  76 Loss:  0.05217590183019638\n",
            "Epoch:  77 Loss:  0.05206160992383957\n",
            "Epoch:  78 Loss:  0.052356645464897156\n",
            "Epoch:  79 Loss:  0.052160464227199554\n",
            "Epoch:  80 Loss:  0.05188946798443794\n",
            "Epoch:  81 Loss:  0.05202973261475563\n",
            "Epoch:  82 Loss:  0.05206030607223511\n",
            "Epoch:  83 Loss:  0.05182730033993721\n",
            "Epoch:  84 Loss:  0.0517829991877079\n",
            "Epoch:  85 Loss:  0.051888465881347656\n",
            "Epoch:  86 Loss:  0.05178968235850334\n",
            "Epoch:  87 Loss:  0.0516403503715992\n",
            "Epoch:  88 Loss:  0.051688287407159805\n",
            "Epoch:  89 Loss:  0.05170564725995064\n",
            "Epoch:  90 Loss:  0.05156785249710083\n",
            "Epoch:  91 Loss:  0.051515158265829086\n",
            "Epoch:  92 Loss:  0.05155833438038826\n",
            "Epoch:  93 Loss:  0.051503729075193405\n",
            "Epoch:  94 Loss:  0.05140431597828865\n",
            "Epoch:  95 Loss:  0.05139273405075073\n",
            "Epoch:  96 Loss:  0.05139980837702751\n",
            "Epoch:  97 Loss:  0.05133550986647606\n",
            "Epoch:  98 Loss:  0.05126747116446495\n",
            "Epoch:  99 Loss:  0.051260773092508316\n",
            "CPU times: user 195 ms, sys: 22.5 ms, total: 217 ms\n",
            "Wall time: 194 ms\n"
          ],
          "name": "stdout"
        }
      ]
    },
    {
      "cell_type": "code",
      "metadata": {
        "id": "yRMBpnbkAWiD",
        "colab_type": "code",
        "colab": {}
      },
      "source": [
        "preds = []\n",
        "with torch.no_grad():\n",
        "    for val in X_test:\n",
        "        y_pred = model.forward(val)\n",
        "        preds.append(y_pred.argmax().item())"
      ],
      "execution_count": 0,
      "outputs": []
    },
    {
      "cell_type": "code",
      "metadata": {
        "id": "gAFl-dvlArCQ",
        "colab_type": "code",
        "colab": {
          "base_uri": "https://localhost:8080/",
          "height": 538
        },
        "outputId": "a4769875-3f3a-483e-8429-34d7d5a06a9d"
      },
      "source": [
        "preds"
      ],
      "execution_count": 49,
      "outputs": [
        {
          "output_type": "execute_result",
          "data": {
            "text/plain": [
              "[1,\n",
              " 0,\n",
              " 2,\n",
              " 1,\n",
              " 1,\n",
              " 0,\n",
              " 1,\n",
              " 2,\n",
              " 1,\n",
              " 1,\n",
              " 2,\n",
              " 0,\n",
              " 0,\n",
              " 0,\n",
              " 0,\n",
              " 1,\n",
              " 2,\n",
              " 1,\n",
              " 1,\n",
              " 2,\n",
              " 0,\n",
              " 2,\n",
              " 0,\n",
              " 2,\n",
              " 2,\n",
              " 2,\n",
              " 2,\n",
              " 2,\n",
              " 0,\n",
              " 0]"
            ]
          },
          "metadata": {
            "tags": []
          },
          "execution_count": 49
        }
      ]
    }
  ]
}